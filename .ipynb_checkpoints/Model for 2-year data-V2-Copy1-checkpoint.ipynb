{
 "cells": [
  {
   "cell_type": "markdown",
   "metadata": {},
   "source": [
    "# Leveraging Student Information to Enhance College Persistence with 2-Year Data"
   ]
  },
  {
   "cell_type": "markdown",
   "metadata": {},
   "source": [
    "### Step 1: Read the Data"
   ]
  },
  {
   "cell_type": "code",
   "execution_count": 241,
   "metadata": {},
   "outputs": [],
   "source": [
    "#Import packages\n",
    "import pandas as pd\n",
    "import numpy as np\n",
    "import matplotlib.pyplot as plt\n",
    "import seaborn as sns\n",
    "import timeit\n",
    "\n",
    "from sklearn.preprocessing import LabelEncoder, StandardScaler\n",
    "from sklearn.model_selection import train_test_split, GridSearchCV\n",
    "from sklearn.compose import make_column_transformer\n",
    "from sklearn.pipeline import Pipeline\n",
    "from sklearn.linear_model import LogisticRegression\n",
    "from sklearn.metrics import accuracy_score, precision_score, recall_score, f1_score, confusion_matrix,roc_auc_score, ConfusionMatrixDisplay\n",
    "from sklearn.tree import DecisionTreeClassifier, plot_tree\n",
    "from sklearn.svm import SVC\n",
    "from sklearn.neighbors import KNeighborsClassifier\n",
    "from sklearn.metrics import RocCurveDisplay\n",
    "from sklearn.inspection import permutation_importance\n",
    "import scikitplot as skplt\n",
    "from sklearn.dummy import DummyClassifier\n",
    "from sklearn.metrics import RocCurveDisplay\n",
    "from sklearn.metrics import confusion_matrix\n",
    "from sklearn.feature_selection import SelectFromModel\n",
    "\n",
    "from IPython.core.interactiveshell import InteractiveShell\n",
    "InteractiveShell.ast_node_interactivity = \"all\"\n",
    "pd.options.display.max_columns = None\n",
    "\n",
    "import warnings\n",
    "warnings.filterwarnings('ignore')\n",
    "warnings.simplefilter('ignore')\n",
    "\n",
    "from IPython.display import display, HTML\n",
    "display(HTML(\"<style>.container { width:100% !important; }</style>\"))"
   ]
  },
  {
   "cell_type": "code",
   "execution_count": 242,
   "metadata": {},
   "outputs": [],
   "source": [
    "#Read dataset\n",
    "df = pd.read_excel('data/FY23 data pull.xlsx')\n",
    "df.head()\n",
    "df.shape"
   ]
  },
  {
   "cell_type": "code",
   "execution_count": 243,
   "metadata": {},
   "outputs": [],
   "source": [
    "#Check the variable type\n",
    "df.info()"
   ]
  },
  {
   "cell_type": "code",
   "execution_count": 244,
   "metadata": {},
   "outputs": [],
   "source": [
    "#Check to see if there are any duplicates based on match key\n",
    "df.shape[0] - df['Updated ID'].nunique()"
   ]
  },
  {
   "cell_type": "markdown",
   "metadata": {},
   "source": [
    "### Step 2: Clean-up the Data"
   ]
  },
  {
   "cell_type": "markdown",
   "metadata": {},
   "source": [
    "#### Drop columns with no data that can be used for modeling"
   ]
  },
  {
   "cell_type": "code",
   "execution_count": 245,
   "metadata": {},
   "outputs": [],
   "source": [
    "#Identify columns with all null or just one value\n",
    "colToDrop = []\n",
    "\n",
    "for col in list(df.columns):\n",
    "    if (df[col].nunique() <= 1):\n",
    "        colToDrop.append(col)\n",
    "        \n",
    "colToDrop"
   ]
  },
  {
   "cell_type": "code",
   "execution_count": 246,
   "metadata": {},
   "outputs": [],
   "source": [
    "#Drop columns from the dataframe\n",
    "df = df.drop(columns = colToDrop)\n",
    "df.shape"
   ]
  },
  {
   "cell_type": "markdown",
   "metadata": {},
   "source": [
    "#### Drop records as exclusions per discussions with 10,000 Degrees"
   ]
  },
  {
   "cell_type": "markdown",
   "metadata": {},
   "source": [
    "10,000 Degrees recommended applying the following exclusions to the data:\n",
    "\n",
    "| #     | Variable Name |Description|Exclusion Criteria | Comment |\n",
    "| :---        |    :----   |    :----   |   :---|   :---|\n",
    "|1|Persistence Indicator|Indicator to identify students who persisted to the second year of college. This is also the targe variable.|Keep 'Yes' or 'No'|Remove 'Ineligible' students. Some of them took time off before starting college. We do not know if they persisted for their second year of college. They are indeterminates.|\n",
    "|2|HS Grad Year|High school graduation year|Keep >=2010|Students graduated from high school before 2010 may not have reliable data.|\n",
    "|3|Program Participation|Participated at any of the programs offered by 10,000 Degrees|Keep records with non-null values |Students with null values applied to a scholarship but were not awarded.|\n",
    "|4|2-yr/4-yr start|Attended a 2 yr or 4 yr program|Keep records with non-null values |Students with null values have no enrollment information at National Student Clearinghouse (NSC).|"
   ]
  },
  {
   "cell_type": "code",
   "execution_count": 247,
   "metadata": {},
   "outputs": [],
   "source": [
    "#Keep only records with \"Persistence Indicator\" is in ['Yes','No']. \n",
    "df['Persistence Indicator'].value_counts()\n",
    "\n",
    "df = df[(df['Persistence Indicator'] == 'Yes') | (df['Persistence Indicator'] == 'No')]\n",
    "\n",
    "print(f'There are {df.shape[0]} records with Persistence Indicator == \"Yes\" or \"No\".')"
   ]
  },
  {
   "cell_type": "code",
   "execution_count": 248,
   "metadata": {},
   "outputs": [],
   "source": [
    "#Assign 'Persistence Indicator' to 0 (persist) and 1 (drop-out)\n",
    "df['persistIndicator'] = df['Persistence Indicator'].map(lambda x: 1 if \"No\" in x else 0)\n",
    "df['persistIndicator'].value_counts()"
   ]
  },
  {
   "cell_type": "code",
   "execution_count": 249,
   "metadata": {},
   "outputs": [],
   "source": [
    "# Keep records with HS Grad Year >= 2010. Data before 2010 is not reliable.\n",
    "df = df[(df['HS Grad Year'] >= 2010)]\n",
    "print(f'There are {df.shape[0]} records with HS Grad Year >= 2010.')"
   ]
  },
  {
   "cell_type": "code",
   "execution_count": 250,
   "metadata": {},
   "outputs": [],
   "source": [
    "#Exclude records with null values for Program Participation\n",
    "df['Program Participation'].isnull().sum()\n",
    "df = df[df['Program Participation'].isnull() == False]\n",
    "print(f'There are {df.shape[0]} records with non-null Program Participation.')"
   ]
  },
  {
   "cell_type": "code",
   "execution_count": 251,
   "metadata": {},
   "outputs": [],
   "source": [
    "#Exclude records with null values for 2-yr/4-yr start\n",
    "df['2-yr/4-yr start'].isnull().sum()\n",
    "df = df[df['2-yr/4-yr start'].isnull() == False]\n",
    "print(f'There are {df.shape[0]} records with non-null 2-yr/4-yr start.')"
   ]
  },
  {
   "cell_type": "code",
   "execution_count": 252,
   "metadata": {},
   "outputs": [],
   "source": [
    "df.groupby('Highest Degree Earned')['persistIndicator'].agg(['count','mean']).rename(columns = {\"count\": \"Count\",\"mean\":\"Drop-out Rate\"})"
   ]
  },
  {
   "cell_type": "markdown",
   "metadata": {},
   "source": [
    "### Step 3: Segment the data for 2-year and 4-year students"
   ]
  },
  {
   "cell_type": "code",
   "execution_count": 253,
   "metadata": {},
   "outputs": [],
   "source": [
    "dfDropOutRate = df.groupby('2-yr/4-yr start')['persistIndicator'].agg(['count','mean']).rename(columns = {\"count\": \"Count\",\"mean\":\"Drop-out Rate\"})"
   ]
  },
  {
   "cell_type": "code",
   "execution_count": 254,
   "metadata": {},
   "outputs": [],
   "source": [
    "dfDropOutRate = dfDropOutRate.iloc[0:2].reset_index()\n",
    "dfDropOutRate['Drop-out Rate2'] =  dfDropOutRate['Drop-out Rate'] *100\n",
    "dfDropOutRate"
   ]
  },
  {
   "cell_type": "code",
   "execution_count": 255,
   "metadata": {},
   "outputs": [],
   "source": [
    "plt.figure(figsize=(10,5))\n",
    "plt.bar(dfDropOutRate['2-yr/4-yr start'],dfDropOutRate['Drop-out Rate']);\n",
    "plt.ylabel('Drop-out Rate')\n",
    "plt.ylim([0, 0.3])\n",
    "plt.title('Drop-out Rates for 2-year and 4-year Students')\n",
    "\n",
    "labels = ['2,019 students', '2,644 students']\n",
    "for i, label in enumerate(labels):\n",
    "    plt.text(i, dfDropOutRate['Drop-out Rate'][i], label, ha='center', va='bottom', fontsize = 'x-large')\n",
    "\n",
    "plt.show();"
   ]
  },
  {
   "cell_type": "markdown",
   "metadata": {},
   "source": [
    "- The drop-out rate for students attending 2-year college is significantly higher.\n",
    "- Decided to segment the population into two groups: 2-year and 4-year.\n",
    "- Will focus on the 2-Year data in this notebook. There is a separate notebook for the analysis on the 4-Year data."
   ]
  },
  {
   "cell_type": "code",
   "execution_count": 256,
   "metadata": {},
   "outputs": [],
   "source": [
    "#Keep only records with '2-yr/4-yr start' == 2-Year or Less than 2-Year\n",
    "df = df[(df['2-yr/4-yr start'] == '2-Year') | (df['2-yr/4-yr start'] == 'Less than 2-Year')]\n",
    "df.shape"
   ]
  },
  {
   "cell_type": "markdown",
   "metadata": {},
   "source": [
    "## Step 4: Further refinement of the analysis sample based on discussions with 10,000 Degrees"
   ]
  },
  {
   "cell_type": "code",
   "execution_count": 257,
   "metadata": {},
   "outputs": [],
   "source": [
    "#Program's focus is students coming directly from high school\n",
    "dfHighestDegreeEarned = df.groupby('Highest Degree Earned')['persistIndicator'].agg(['count','mean']).rename(columns = {\"count\": \"Count\",\"mean\":\"Drop-out Rate\"}).reset_index()\n",
    "dfHighestDegreeEarned"
   ]
  },
  {
   "cell_type": "code",
   "execution_count": 258,
   "metadata": {},
   "outputs": [],
   "source": [
    "plt.figure(figsize=(10,5))\n",
    "plt.bar(dfHighestDegreeEarned['Highest Degree Earned'],dfHighestDegreeEarned['Drop-out Rate']);\n",
    "plt.ylabel('Drop-out Rate')\n",
    "plt.ylim([0, 0.4])\n",
    "plt.title('Drop-out Rates According to the Highest Degree Earned')\n",
    "\n",
    "labels = ['264 students', '257 students','9 students','96 students','1,393 students']\n",
    "for i, label in enumerate(labels):\n",
    "    plt.text(i, dfHighestDegreeEarned['Drop-out Rate'][i], label, ha='center', va='bottom', fontsize = 'x-large')\n",
    "\n",
    "plt.show();"
   ]
  },
  {
   "cell_type": "code",
   "execution_count": 259,
   "metadata": {},
   "outputs": [],
   "source": [
    "df =df[df['Highest Degree Earned'] == \"HS\"]\n",
    "df.shape"
   ]
  },
  {
   "cell_type": "code",
   "execution_count": 260,
   "metadata": {},
   "outputs": [],
   "source": [
    "#Calculate the final drop-out rate for the analysis sample\n",
    "dropOutRate = df['persistIndicator'].value_counts(normalize=True)[1]\n",
    "np.round(dropOutRate,2)"
   ]
  },
  {
   "cell_type": "markdown",
   "metadata": {},
   "source": [
    "### Step 4: Feature Engineering"
   ]
  },
  {
   "cell_type": "markdown",
   "metadata": {},
   "source": [
    "#### Analyze each column to decide on a treatment for 2-Year data"
   ]
  },
  {
   "cell_type": "code",
   "execution_count": 261,
   "metadata": {},
   "outputs": [],
   "source": [
    "#Function to generate freq and drop-out rate charts\n",
    "def histCatVariablesCount(i,x,y,t):\n",
    "    ax[i].bar(x,y)\n",
    "    ax[i].set_title(t, fontsize = 20, pad = 20.0)\n",
    "    ax[i].set_ylabel(\"Number of Students\", fontsize = 15)\n",
    "    ax[i].tick_params(axis = 'x',labelrotation = 45,labelsize = '15')\n",
    "\n",
    "def histCatVariablesNonPersistenceRate(i,x,y,t):\n",
    "    ax[i].bar(x,y)\n",
    "    ax[i].set_title(t, fontsize = 20, pad = 20.0)\n",
    "    ax[i].set_ylabel(\"Drop-out Rate\", fontsize = 15)\n",
    "    ax[i].tick_params(axis = 'x',labelrotation= 45,labelsize = '15')\n",
    "    ax[i].axhline(y = dropOutRate, color = 'r')\n",
    "    ax[i].text(0, 0.34, \"Average Drop-out Rate\", fontsize = 15)"
   ]
  },
  {
   "cell_type": "code",
   "execution_count": 262,
   "metadata": {},
   "outputs": [],
   "source": [
    "#List of columns that will be analyzed in this section\n",
    "list(df.columns)"
   ]
  },
  {
   "cell_type": "markdown",
   "metadata": {},
   "source": [
    "#### High School "
   ]
  },
  {
   "cell_type": "code",
   "execution_count": 263,
   "metadata": {},
   "outputs": [],
   "source": [
    "#Create a function to web scrape school ratings from greatschools.org website using BeautifulSoup\n",
    "'''import requests\n",
    "from bs4 import BeautifulSoup\n",
    "\n",
    "def get_school_rating(school_name):\n",
    "    url = f'https://www.greatschools.org/search/search.page?q={school_name}'\n",
    "    response = requests.get(url, verify = False)\n",
    "    html_data = response.text\n",
    "\n",
    "    soup = BeautifulSoup(html_data, 'html.parser')\n",
    "    cdata = soup.find('script')\n",
    "\n",
    "    cdata_str = str(cdata)\n",
    "    start = cdata_str.find('\"rating\":') + len('\"rating\":')\n",
    "    end = cdata_str.find(',', start)\n",
    "    rating = cdata_str[start:end].strip()\n",
    "    if rating:\n",
    "        return rating\n",
    "    else:\n",
    "        return \"School not found\"\n",
    "'''"
   ]
  },
  {
   "cell_type": "code",
   "execution_count": 264,
   "metadata": {},
   "outputs": [],
   "source": [
    "#Create a unique list of high school names and their web addresses according to greatschools.org format\n",
    "schoolList = list(df['High School'].unique())\n",
    "\n",
    "formattedSchoolList = []\n",
    "\n",
    "for school in schoolList:\n",
    "    formattedSchool = \"%22\" + school.replace(\" \",\"%20\") +\"%22\" #Standard website link for each school name\n",
    "    formattedSchoolList.append(formattedSchool)\n",
    "    \n",
    "schoolListDict = dict(zip(schoolList,formattedSchoolList))"
   ]
  },
  {
   "cell_type": "code",
   "execution_count": 265,
   "metadata": {},
   "outputs": [],
   "source": [
    "#Create a dataframe with school names, websites and ratings.\n",
    "'''schools = []\n",
    "schoolsWebAddress = []\n",
    "ratings = []\n",
    "\n",
    "for key, value in schoolListDict.items():\n",
    "    schools.append(key)\n",
    "    schoolsWebAddress.append(\"https://www.greatschools.org/search/search.page?q=\"+value)\n",
    "    rating = get_school_rating(value)\n",
    "    if rating == \"null\": #The school does not have a rating\n",
    "        rating = -1\n",
    "    elif rating == '//<![CDATA[\\nwindow.gon={};gon.ad_set_targeting={\"env\":\"prod\"': #The link is not working\n",
    "        rating = -2\n",
    "    else:\n",
    "        rating = int(rating)-1\n",
    "    rating = str(rating)\n",
    "    ratings.append(rating)\n",
    "\n",
    "dfSchoolRating = pd.DataFrame({'School': schools, 'Web Address': schoolsWebAddress, 'HSRating': ratings})\n",
    "dfSchoolRating.head()\n",
    "'''"
   ]
  },
  {
   "cell_type": "code",
   "execution_count": 266,
   "metadata": {},
   "outputs": [],
   "source": [
    "dfSchoolRating2 = pd.read_csv('data/HighSchoolRating.csv',dtype = {'HSRating':'string'})\n",
    "dfSchoolRating2.head()\n",
    "dfSchoolRating2.shape"
   ]
  },
  {
   "cell_type": "code",
   "execution_count": 267,
   "metadata": {},
   "outputs": [],
   "source": [
    "dfSchoolRating2['HSRating2'] = np.where((dfSchoolRating2['HSRating'] == \"-1\") | (dfSchoolRating2['HSRating'] == \"-2\"), \"-1\", dfSchoolRating2['HSRating'])\n",
    "dfSchoolRating2.head"
   ]
  },
  {
   "cell_type": "code",
   "execution_count": 268,
   "metadata": {},
   "outputs": [],
   "source": [
    "#Merge df with dfSchoolRating to get their HS school rating by doing a left join\n",
    "df = pd.merge(left = df, right = dfSchoolRating2[['School','HSRating2']], left_on = 'High School', right_on = 'School', how = 'left').drop(columns = ['School'])\n",
    "df.head()"
   ]
  },
  {
   "cell_type": "code",
   "execution_count": 269,
   "metadata": {},
   "outputs": [],
   "source": [
    "dfHSRatingCount = pd.DataFrame(df.groupby(\"HSRating2\")['persistIndicator'].agg('count')).reset_index()\n",
    "dfHSRatingAvg = pd.DataFrame(df.groupby(\"HSRating2\")['persistIndicator'].agg('mean')).reset_index()\n",
    "\n",
    "fig, ax = plt.subplots(1,2, figsize = (30, 10))\n",
    "histCatVariablesCount(0,dfHSRatingCount.HSRating2,dfHSRatingCount.persistIndicator,\"Frequency by High School Rating\")\n",
    "histCatVariablesNonPersistenceRate(1,dfHSRatingAvg.HSRating2,dfHSRatingAvg.persistIndicator,\"Drop-out Rates by High School Rating\")"
   ]
  },
  {
   "cell_type": "markdown",
   "metadata": {},
   "source": [
    "#### Summary of Findings for <u>High School</u>:\n",
    "- Students who attended schools with higher ratings tend to have lower drop-out rates.\n",
    "\n",
    "<u>Action</u>:\n",
    "\n",
    "- Drop 'High School' but keep the corresponding rating for model development."
   ]
  },
  {
   "cell_type": "markdown",
   "metadata": {},
   "source": [
    "####  'HS Grad Year', 'HS Grad Date' and 'Months Since HS Grad Date'"
   ]
  },
  {
   "cell_type": "markdown",
   "metadata": {},
   "source": [
    "Check to see if these three columns carry the same information"
   ]
  },
  {
   "cell_type": "code",
   "execution_count": 270,
   "metadata": {},
   "outputs": [],
   "source": [
    "#Check to see if there is 100% overlap between HS Grad Year and HS Grad Date\n",
    "pd.pivot_table(df, index= 'HS Grad Year', columns = 'HS Grad Date', aggfunc = 'count')['Updated ID'].replace({np.nan:\"\"})"
   ]
  },
  {
   "cell_type": "markdown",
   "metadata": {},
   "source": [
    "All the counts are on the diagonal. These two fields overlap 100%."
   ]
  },
  {
   "cell_type": "code",
   "execution_count": 271,
   "metadata": {},
   "outputs": [],
   "source": [
    "#Check to see if there is 100% overlap between HS Date and Months Since HS Grad Date\n",
    "pd.pivot_table(df, index= 'HS Grad Date', columns = 'Months Since HS Grad Date', aggfunc = 'count')['Updated ID'].replace({np.nan:\"\"})"
   ]
  },
  {
   "cell_type": "code",
   "execution_count": 272,
   "metadata": {},
   "outputs": [],
   "source": [
    "#Check to see if there is 100% overlap between HS Date and Months Since HS Grad Date\n",
    "pd.pivot_table(df, index= 'HS Grad Date', columns = 'First College Enrollment Date', aggfunc = 'count')['Updated ID'].replace({np.nan:\"\"})"
   ]
  },
  {
   "cell_type": "markdown",
   "metadata": {},
   "source": [
    "All the counts are on the diagonal. These two fields overlap 100%."
   ]
  },
  {
   "cell_type": "code",
   "execution_count": 273,
   "metadata": {},
   "outputs": [],
   "source": [
    "#Check to see trend of the drop-out rate for'Months Since HS Grade Date'\n",
    "dfMonthsSinceHSCount = pd.DataFrame(df.groupby(\"Months Since HS Grad Date\")['persistIndicator'].agg('count')).reset_index()\n",
    "dfMonthsSinceHSAvg = pd.DataFrame(df.groupby(\"Months Since HS Grad Date\")['persistIndicator'].agg('mean')).reset_index()\n",
    "\n",
    "dfMonthsSinceHSCount['Months Since HS Grad Date'] = dfMonthsSinceHSCount['Months Since HS Grad Date'].astype('str')\n",
    "dfMonthsSinceHSAvg['Months Since HS Grad Date'] = dfMonthsSinceHSAvg['Months Since HS Grad Date'].astype('str')\n",
    "\n",
    "fig, ax = plt.subplots(1,2, figsize = (30, 10))\n",
    "histCatVariablesCount(0,dfMonthsSinceHSCount['Months Since HS Grad Date'],dfMonthsSinceHSCount.persistIndicator,\"Frequency by Months Since HS Graduation Date\")\n",
    "histCatVariablesNonPersistenceRate(1,dfMonthsSinceHSAvg['Months Since HS Grad Date'],dfMonthsSinceHSAvg.persistIndicator,\"Drop-out Rate by Months Since HS Graduation Date\")"
   ]
  },
  {
   "cell_type": "code",
   "execution_count": 274,
   "metadata": {},
   "outputs": [],
   "source": [
    "#Check to see trend of the drop-out rate for'Months Since HS Grade Date'\n",
    "dfMonthsSinceHSCount = pd.DataFrame(df.groupby(\"HS Grad Year\")['persistIndicator'].agg('count')).reset_index()\n",
    "dfMonthsSinceHSAvg = pd.DataFrame(df.groupby(\"HS Grad Year\")['persistIndicator'].agg('mean')).reset_index()\n",
    "\n",
    "dfMonthsSinceHSCount['HS Grad Year'] = dfMonthsSinceHSCount['HS Grad Year'].astype('str')\n",
    "dfMonthsSinceHSAvg['HS Grad Year'] = dfMonthsSinceHSAvg['HS Grad Year'].astype('str')\n",
    "\n",
    "fig, ax = plt.subplots(1,2, figsize = (30, 10))\n",
    "histCatVariablesCount(0,dfMonthsSinceHSCount['HS Grad Year'],dfMonthsSinceHSCount.persistIndicator,\"Frequency by HS Graduation Year\")\n",
    "histCatVariablesNonPersistenceRate(1,dfMonthsSinceHSAvg['HS Grad Year'],dfMonthsSinceHSAvg.persistIndicator,\"Drop-out Rates by HS Graduation Year\")"
   ]
  },
  {
   "cell_type": "markdown",
   "metadata": {},
   "source": [
    "#### Summary of Findings for <u>HS Grad Year</u>, <u>HS Grad Date</u> and <u>Months Since High School Graduation</u> :\n",
    "- These three variables carry the same information.\n",
    "- Students who recently graduated from high school tend to have higher drop-out rate. This corresponds to the Covid period.\n",
    "\n",
    "<u>Action</u>:\n",
    "\n",
    "- Drop 'HS Grad Year','HS Grad Date' and 'Months Since High School Graduation'."
   ]
  },
  {
   "cell_type": "markdown",
   "metadata": {},
   "source": [
    "####  'Program Participation'"
   ]
  },
  {
   "cell_type": "code",
   "execution_count": 275,
   "metadata": {},
   "outputs": [],
   "source": [
    "df['Program Participation'].value_counts(dropna = False)"
   ]
  },
  {
   "cell_type": "markdown",
   "metadata": {},
   "source": [
    "Below programs are offered by 10,000 Degrees:\n",
    "\n",
    "| #     | Program |Student Type|Description|\n",
    "| :---        |    :----   |    :----   |   :----   |\n",
    "|1|METAS|High school|Program offered by 10,000 Degrees in Marin for students in English as a Second Language (ESL) classes|\n",
    "|2|ECCA|High school |Program offered by 10,000 Degrees in Marin but not limited to ESL students|\n",
    "|3|Institute|High school|Program done in summer before the senior year in high school |\n",
    "|4|Meritus|College|Scholarship and college support from another program that merged with 10,000 Degrees|\n",
    "|5|Success|College|College support program|\n",
    "|6|Scholarship|College|Scholarship program|\n",
    "\n",
    "Some students may have participated to the multiple programs."
   ]
  },
  {
   "cell_type": "code",
   "execution_count": 276,
   "metadata": {},
   "outputs": [],
   "source": [
    "#Create a new column for METAS participants\n",
    "df[\"ESL\"] = df[\"Program Participation\"].map(lambda x: 1 if \"METAS\" in x else 0)\n",
    "df[\"ESL\"].value_counts(dropna = False)\n",
    "df.groupby(\"ESL\")['persistIndicator'].mean()"
   ]
  },
  {
   "cell_type": "code",
   "execution_count": 277,
   "metadata": {},
   "outputs": [],
   "source": [
    "#Create a new column for ECCA participants\n",
    "df[\"ECCA\"] = df[\"Program Participation\"].map(lambda x: 1 if \"ECCA\" in x else 0)\n",
    "df[\"ECCA\"].value_counts(dropna = False)\n",
    "df.groupby(\"ECCA\")['persistIndicator'].mean()"
   ]
  },
  {
   "cell_type": "code",
   "execution_count": 278,
   "metadata": {},
   "outputs": [],
   "source": [
    "#Create a new column for Institute participants\n",
    "df[\"Institute\"] = df[\"Program Participation\"].map(lambda x: 1 if \"Institute\" in x else 0)\n",
    "df[\"Institute\"].value_counts(dropna = False)\n",
    "df.groupby(\"Institute\")['persistIndicator'].mean()"
   ]
  },
  {
   "cell_type": "code",
   "execution_count": 279,
   "metadata": {},
   "outputs": [],
   "source": [
    "#Create a new column for ECCA and Institute participants since the counts for METAS and ECCA are low\n",
    "df['hsProgramParticipant'] = df['ECCA'] + df['Institute']\n",
    "df['hsProgramParticipant'].value_counts(dropna = False)\n",
    "df.groupby(\"hsProgramParticipant\")['persistIndicator'].mean()"
   ]
  },
  {
   "cell_type": "markdown",
   "metadata": {},
   "source": [
    "- High school program participants have slightly lower drop-out rate even though they come from challenged backgrounds"
   ]
  },
  {
   "cell_type": "code",
   "execution_count": 280,
   "metadata": {},
   "outputs": [],
   "source": [
    "#Create a new column for Meritus participants\n",
    "df[\"Meritus\"] = df[\"Program Participation\"].map(lambda x: 1 if \"Meritus\" in x else 0)\n",
    "df[\"Meritus\"].value_counts(dropna = False)\n",
    "df.groupby('Meritus')['persistIndicator'].mean()"
   ]
  },
  {
   "cell_type": "markdown",
   "metadata": {},
   "source": [
    "There are only two students who came from the Meritus program. Will drop this variable."
   ]
  },
  {
   "cell_type": "code",
   "execution_count": 281,
   "metadata": {},
   "outputs": [],
   "source": [
    "#Create a new column for Success participants\n",
    "df[\"Success\"] = df[\"Program Participation\"].map(lambda x: 1 if \"Success\" in x else 0)\n",
    "df[\"Scholarship\"] = df[\"Program Participation\"].map(lambda x: 1 if \"Scholarship\" in x else 0)"
   ]
  },
  {
   "cell_type": "code",
   "execution_count": 282,
   "metadata": {},
   "outputs": [],
   "source": [
    "pd.pivot_table(df, index= 'Success', columns = 'Scholarship', aggfunc = 'count')['Updated ID'].replace({np.nan:\"\"})\n",
    "pd.pivot_table(df, index= 'Success', columns = 'Scholarship', aggfunc = 'mean')['persistIndicator'].replace({np.nan:\"\"})"
   ]
  },
  {
   "cell_type": "code",
   "execution_count": 283,
   "metadata": {},
   "outputs": [],
   "source": [
    "def success(s):\n",
    "    if ((s['Success'] == 1) and (s['Scholarship'] == 1)):\n",
    "        return \"Success with Scholarship\" #Attended Success with scholarship\n",
    "    elif ((s['Success'] == 1) and (s['Scholarship'] == 0)):\n",
    "        return \"Success without Scholarship\" #Attended Success with scholarship\n",
    "    elif ((s['Success'] == 0) and (s['Scholarship'] == 0)):\n",
    "        return \"Neither Success nor Scholarship\" #No Success and no Scholarship\n",
    "    elif ((s['Success'] == 0) and (s['Scholarship'] == 1)):\n",
    "        return \"No Success but Scholarship\" #Scholarship but no Success\n",
    "    else:\n",
    "        return \"Error\" #Error\n",
    "\n",
    "df['successScholarship'] = df.apply(success, axis=1)\n",
    "df['successScholarship'].value_counts()\n",
    "\n",
    "df.groupby(\"successScholarship\")['persistIndicator'].mean()"
   ]
  },
  {
   "cell_type": "markdown",
   "metadata": {},
   "source": [
    "Students who receive a scholarship through the Success program demonstrate greater persistence than their counterparts who only attended the Success program."
   ]
  },
  {
   "cell_type": "code",
   "execution_count": 284,
   "metadata": {},
   "outputs": [],
   "source": [
    "#Create a new column for Scholarship participants\n",
    "df[\"Scholarship\"] = df[\"Program Participation\"].map(lambda x: 1 if \"Scholarship\" in x else 0)\n",
    "df[\"Scholarship\"].value_counts(dropna = False)\n",
    "df.groupby('Scholarship')['persistIndicator'].mean()"
   ]
  },
  {
   "cell_type": "markdown",
   "metadata": {},
   "source": [
    "Students who got a scholarship are more persistent."
   ]
  },
  {
   "cell_type": "markdown",
   "metadata": {},
   "source": [
    "#### Summary of Findings for <u>Program Participation</u>\n",
    "- META, ECCA and Institute are all high school programs. The counts for META and ECCA are very low. Participants of these programs have high drop-out rates. This needs to be discussed with 10,000 Degrees.\n",
    "- Meritus, Success and Scholarship are college programs. Meritus and Scholarship particiants have lower drop-out rates. Success students have high drop-out. This needs to be discussed with 10,000 Degrees.\n",
    "\n",
    "<u>Action</u>:\n",
    "\n",
    "- Drop 'Program Participation'\n",
    "- Keep a new variable hsProgramParticipant for the participants of METAS, ECCA and Institute programs for high school students.\n",
    "- Keep a new variable for Meritus participants.\n",
    "- Keep a new variable for Success participants.\n",
    "- Keep a new variable for Scholarship participants.\n",
    "- Keep a new variable for collegeProgramParticipant for the particpants of Meritus, Success and Scholarship."
   ]
  },
  {
   "cell_type": "markdown",
   "metadata": {},
   "source": [
    "####  'Dual Enrolled'"
   ]
  },
  {
   "cell_type": "markdown",
   "metadata": {},
   "source": [
    "Students sign up in the community college classes while they are finishing high-school."
   ]
  },
  {
   "cell_type": "code",
   "execution_count": 285,
   "metadata": {},
   "outputs": [],
   "source": [
    "df['Dual Enrolled'].value_counts(dropna = False)\n",
    "df.groupby('Dual Enrolled')['persistIndicator'].mean()"
   ]
  },
  {
   "cell_type": "markdown",
   "metadata": {},
   "source": [
    "Dual enrolled students are less likely to drop-out."
   ]
  },
  {
   "cell_type": "code",
   "execution_count": 286,
   "metadata": {},
   "outputs": [],
   "source": [
    "#Convert to numeric\n",
    "df['dualEnrolled'] = df[\"Dual Enrolled\"].map(lambda x: 1 if \"Yes\" in x else 0)\n",
    "df['dualEnrolled'].value_counts()"
   ]
  },
  {
   "cell_type": "code",
   "execution_count": 287,
   "metadata": {},
   "outputs": [],
   "source": [
    "dfDualEnrolled = df.groupby('Dual Enrolled')['persistIndicator'].agg(['count','mean']).rename(columns = {\"count\": \"Count\",\"mean\":\"Drop-out Rate\"}).reset_index()\n",
    "dfDualEnrolled"
   ]
  },
  {
   "cell_type": "code",
   "execution_count": 288,
   "metadata": {},
   "outputs": [],
   "source": [
    "plt.figure(figsize=(15,8))\n",
    "plt.bar(dfDualEnrolled['Dual Enrolled'],dfDualEnrolled['Drop-out Rate']);\n",
    "plt.ylabel('Drop-out Rate')\n",
    "plt.ylim([0, 0.35])\n",
    "plt.title('Drop-out Rates for Students Who Completed Community College Classes During High School and Those Who Did Not')\n",
    "\n",
    "labels = ['1,380 students', '13 students']\n",
    "for i, label in enumerate(labels):\n",
    "    plt.text(i, dfDualEnrolled['Drop-out Rate'][i], label, ha='center', va='bottom', fontsize = 'x-large')\n",
    "\n",
    "plt.show();"
   ]
  },
  {
   "cell_type": "markdown",
   "metadata": {},
   "source": [
    "#### Summary of Findings for <u>Dual Enrolled</u>\n",
    "- Students who enrolled to community college during their high school years are more likely to persist in the second year of college.\n",
    "\n",
    "<u>Action</u>:\n",
    "\n",
    "- Replace 'Dual Enrolled' with the numeric dualEnrolled variable to be used in development."
   ]
  },
  {
   "cell_type": "markdown",
   "metadata": {},
   "source": [
    "####  'Gender'"
   ]
  },
  {
   "cell_type": "code",
   "execution_count": 289,
   "metadata": {},
   "outputs": [],
   "source": [
    "df['Gender'].value_counts(dropna = False)\n",
    "df.groupby('Gender')['persistIndicator'].mean()"
   ]
  },
  {
   "cell_type": "code",
   "execution_count": 290,
   "metadata": {},
   "outputs": [],
   "source": [
    "#Convert to numeric, Female -> 0, Male -> 1, Non-binary -> 1, Not Provided -> 1 (Non-binary and Not Provided are a very small group. Grouped them with Male with high drop-out rate.)\n",
    "df['sex'] = df[\"Gender\"].map(lambda x: 0 if \"Female\" in x else 1)\n",
    "df['sex'].value_counts()"
   ]
  },
  {
   "cell_type": "code",
   "execution_count": 291,
   "metadata": {},
   "outputs": [],
   "source": [
    "dfGender = df.groupby('Gender')['persistIndicator'].agg(['count','mean']).rename(columns = {\"count\": \"Count\",\"mean\":\"Drop-out Rate\"}).reset_index()\n",
    "dfGender"
   ]
  },
  {
   "cell_type": "code",
   "execution_count": 292,
   "metadata": {},
   "outputs": [],
   "source": [
    "plt.figure(figsize=(15,8))\n",
    "plt.bar(dfGender['Gender'],dfGender['Drop-out Rate']);\n",
    "plt.ylabel('Drop-out Rate')\n",
    "plt.ylim([0, 0.7])\n",
    "plt.title('Drop-out Rates by Gender')\n",
    "\n",
    "labels = ['722 students', '657 students','9 students','5 students']\n",
    "for i, label in enumerate(labels):\n",
    "    plt.text(i, dfGender['Drop-out Rate'][i], label, ha='center', va='bottom', fontsize = 'x-large')\n",
    "\n",
    "plt.show();"
   ]
  },
  {
   "cell_type": "markdown",
   "metadata": {},
   "source": [
    "#### Summary of Findings for <u>Gender</u>\n",
    "- Female students are less likely to drop out of college.\n",
    "\n",
    "<u>Action</u>:\n",
    "\n",
    "- Replace 'Gender' with the numeric 'sex' variable to be used in development."
   ]
  },
  {
   "cell_type": "markdown",
   "metadata": {},
   "source": [
    "#### '% of scholarships not accepted'"
   ]
  },
  {
   "cell_type": "code",
   "execution_count": 293,
   "metadata": {},
   "outputs": [],
   "source": [
    "df['% of scholarships not accepted'].value_counts(dropna = False)"
   ]
  },
  {
   "cell_type": "code",
   "execution_count": 294,
   "metadata": {},
   "outputs": [],
   "source": [
    "#Create a new column with numeric values for '% of scholarships not accepted' by stripping \"%\"\n",
    "df['percScholarshipNotAccepted'] = pd.to_numeric(df['% of scholarships not accepted'].str.strip(\"%\"))"
   ]
  },
  {
   "cell_type": "code",
   "execution_count": 295,
   "metadata": {},
   "outputs": [],
   "source": [
    "#Create a new variable for percentage of scholarships accepted, all null values were set to a special value of -1\n",
    "df['percScholarshipAccepted'] =  df['percScholarshipNotAccepted'].map(lambda x: -1 if pd.isnull(x) else 100 + x)\n",
    "df['percScholarshipAccepted'].head()"
   ]
  },
  {
   "cell_type": "code",
   "execution_count": 296,
   "metadata": {},
   "outputs": [],
   "source": [
    "#Create a binned variable for the percentage of scholarship accepted\n",
    "percBinning = [-1,0,10,20,30,40,50,60,70,80,90,100,float(\"inf\")]\n",
    "df[\"percScholarshipAcceptedBinned\"] = pd.cut(x = df[\"percScholarshipAccepted\"], right = False, bins = percBinning)"
   ]
  },
  {
   "cell_type": "code",
   "execution_count": 297,
   "metadata": {},
   "outputs": [],
   "source": [
    "percScholarshipCount = pd.DataFrame(df.groupby(\"percScholarshipAcceptedBinned\")['persistIndicator'].agg('count')).reset_index()\n",
    "percScholarshipAvg = pd.DataFrame(df.groupby(\"percScholarshipAcceptedBinned\")['persistIndicator'].agg('mean')).reset_index()\n",
    "\n",
    "percScholarshipCount['percScholarshipAcceptedBinned'] = percScholarshipCount['percScholarshipAcceptedBinned'].astype(str)\n",
    "percScholarshipAvg['percScholarshipAcceptedBinned'] = percScholarshipAvg['percScholarshipAcceptedBinned'].astype(str)\n",
    "\n",
    "fig, ax = plt.subplots(1,2, figsize = (30, 10))\n",
    "histCatVariablesCount(0,percScholarshipCount['percScholarshipAcceptedBinned'], percScholarshipCount.persistIndicator,\"Frequency by % of Scholarships Accepted\")\n",
    "histCatVariablesNonPersistenceRate(1,percScholarshipAvg['percScholarshipAcceptedBinned'],percScholarshipAvg.persistIndicator,\"Drop-out Rates by % of Scholarships Accepted\")"
   ]
  },
  {
   "cell_type": "code",
   "execution_count": 298,
   "metadata": {},
   "outputs": [],
   "source": [
    "#Decided to assign missing values (-1) to 50% so that the drop-out rate rank orders with this group included\n",
    "df['percScholarshipAcceptedTemp'] =  df['percScholarshipAccepted'] #This new variable will be used to calculate the correlation of this variable with the '# of scholarships since 2015'\n",
    "df['percScholarshipAccepted'] =  df['percScholarshipAccepted'].map(lambda x: 50 if x == -1 else x)"
   ]
  },
  {
   "cell_type": "code",
   "execution_count": 299,
   "metadata": {},
   "outputs": [],
   "source": [
    "percBinning = [0,10,20,30,40,50,60,70,80,90,100,float(\"inf\")]\n",
    "df[\"percScholarshipAcceptedBinned\"] = pd.cut(x = df[\"percScholarshipAccepted\"], right = False, bins = percBinning)"
   ]
  },
  {
   "cell_type": "code",
   "execution_count": 300,
   "metadata": {},
   "outputs": [],
   "source": [
    "#Scholarship\n",
    "percScholarshipCount = pd.DataFrame(df.groupby(\"percScholarshipAcceptedBinned\")['persistIndicator'].agg('count')).reset_index()\n",
    "percScholarshipAvg = pd.DataFrame(df.groupby(\"percScholarshipAcceptedBinned\")['persistIndicator'].agg('mean')).reset_index()\n",
    "\n",
    "percScholarshipCount['percScholarshipAcceptedBinned'] = percScholarshipCount['percScholarshipAcceptedBinned'].astype(str)\n",
    "percScholarshipAvg['percScholarshipAcceptedBinned'] = percScholarshipAvg['percScholarshipAcceptedBinned'].astype(str)\n",
    "\n",
    "fig, ax = plt.subplots(1,2, figsize = (30, 10))\n",
    "histCatVariablesCount(0,percScholarshipCount['percScholarshipAcceptedBinned'], percScholarshipCount.persistIndicator,\"Frequency by % of Scholarships Accepted\")\n",
    "histCatVariablesNonPersistenceRate(1,percScholarshipAvg['percScholarshipAcceptedBinned'],percScholarshipAvg.persistIndicator,\"Drop-out Rate by % of Scholarships Accepted\")"
   ]
  },
  {
   "cell_type": "markdown",
   "metadata": {},
   "source": [
    "#### Summary of Findings for <u>% of scholarships not accepted</u>\n",
    "- Students who accepted a larger percentage of their scholarship are more likely to persist.\n",
    "\n",
    "<u>Action</u>:\n",
    "\n",
    "- Drop '% of scholarships not accepted' and replace it with 'percScholarshipAccepted' to be used in development."
   ]
  },
  {
   "cell_type": "markdown",
   "metadata": {},
   "source": [
    "####  'Race/Ethnicity'"
   ]
  },
  {
   "cell_type": "code",
   "execution_count": 301,
   "metadata": {},
   "outputs": [],
   "source": [
    "df['Race Ethnicity'].value_counts(dropna = False)"
   ]
  },
  {
   "cell_type": "code",
   "execution_count": 302,
   "metadata": {
    "scrolled": true
   },
   "outputs": [],
   "source": [
    "\n",
    "\n",
    "dfRaceCount = pd.DataFrame(df.groupby(\"Race Ethnicity\")['persistIndicator'].agg('count')).reset_index()\n",
    "dfRaceAvg = pd.DataFrame(df.groupby(\"Race Ethnicity\")['persistIndicator'].agg('mean')).reset_index()\n",
    "\n",
    "dfRaceCount['Race Ethnicity'] = dfRaceCount['Race Ethnicity'].map(lambda x: 'American Indian' if \"American Indian/Indigenous American or Alaska\" in x else x)\n",
    "dfRaceAvg['Race Ethnicity'] = dfRaceAvg['Race Ethnicity'].map(lambda x: 'American Indian' if \"American Indian/Indigenous American or Alaska\" in x else x)\n",
    "\n",
    "fig, ax = plt.subplots(1,2, figsize = (30, 10))\n",
    "histCatVariablesCount(0,dfRaceCount['Race Ethnicity'],dfRaceCount.persistIndicator,\"Frequency by Race/Ethnicity\")\n",
    "histCatVariablesNonPersistenceRate(1,dfRaceAvg['Race Ethnicity'],dfRaceAvg.persistIndicator,\"Drop-out Rates by Race/Ethnicity\")\n"
   ]
  },
  {
   "cell_type": "code",
   "execution_count": 303,
   "metadata": {},
   "outputs": [],
   "source": [
    "#Group race/ethnicity for Hispanic, Asian, White, Black, Other and Not Provided\n",
    "raceDict = {'Hispanic/Latino/a/x':'Hispanic',\n",
    "            'Asian':'Asian',\n",
    "            'White':'White',\n",
    "            'Black/African American':'Black',\n",
    "            'Not Provided': 'Not Provided',\n",
    "            'Multiracial/Multiethnic':'Other',\n",
    "            'Not listed /prefer to self-describe':'Not Provided',\n",
    "            'American Indian/Indigenous American or Alaska Native':'Other',\n",
    "            'Pacific Islander':'Other'}\n",
    "\n",
    "df['race'] =df['Race Ethnicity'].map(raceDict)\n",
    "df['race'].value_counts()"
   ]
  },
  {
   "cell_type": "code",
   "execution_count": 304,
   "metadata": {},
   "outputs": [],
   "source": [
    "dfRaceCount = pd.DataFrame(df.groupby(\"race\")['persistIndicator'].agg('count')).reset_index()\n",
    "dfRaceAvg = pd.DataFrame(df.groupby(\"race\")['persistIndicator'].agg('mean')).reset_index()\n",
    "\n",
    "fig, ax = plt.subplots(1,2, figsize = (30, 10))\n",
    "histCatVariablesCount(0,dfRaceCount['race'],dfRaceCount.persistIndicator,\"Frequency by Race/Ethnicity\")\n",
    "histCatVariablesNonPersistenceRate(1,dfRaceAvg['race'],dfRaceAvg.persistIndicator,\"Non-Persistence Rate by Race/Ethnicity\")"
   ]
  },
  {
   "cell_type": "code",
   "execution_count": 305,
   "metadata": {},
   "outputs": [],
   "source": [
    "#Map race to numeric values based on their drop-out rate\n",
    "raceDict = {'Black':1,\n",
    "            'White':2,\n",
    "            'Not Provided':3,\n",
    "            'Hispanic':4,\n",
    "            'Other':5,\n",
    "            'Asian':6}\n",
    "\n",
    "df['race'] = df['race'].map(raceDict)\n",
    "df['race'].value_counts()"
   ]
  },
  {
   "cell_type": "markdown",
   "metadata": {},
   "source": [
    "#### Summary of Findings for <u>Race Ethnicity</u>\n",
    "- Asian are less likely to drop out.\n",
    "\n",
    "<u>Action</u>:\n",
    "\n",
    "- Drop 'Race Ethnicity' and replace it with 'race' to be used in development."
   ]
  },
  {
   "cell_type": "markdown",
   "metadata": {},
   "source": [
    "####  'Transfer status'"
   ]
  },
  {
   "cell_type": "markdown",
   "metadata": {},
   "source": [
    "- No -> Still in 2 year\n",
    "- Transfer -> Transferred to a 4-year college"
   ]
  },
  {
   "cell_type": "code",
   "execution_count": 306,
   "metadata": {},
   "outputs": [],
   "source": [
    "dfTransferStatus = df.groupby('Transfer status')['persistIndicator'].agg(['count','mean']).rename(columns = {\"count\": \"Count\",\"mean\":\"Drop-out Rate\"}).reset_index()\n",
    "dfTransferStatus"
   ]
  },
  {
   "cell_type": "code",
   "execution_count": 307,
   "metadata": {},
   "outputs": [],
   "source": [
    "plt.figure(figsize=(15,8))\n",
    "plt.bar(dfTransferStatus['Transfer status'],dfTransferStatus['Drop-out Rate']);\n",
    "plt.ylabel('Drop-out Rate')\n",
    "plt.ylim([0, 0.4])\n",
    "plt.title('Drop-out Rates by Transfer Status')\n",
    "\n",
    "labels = ['1,286 students', '107 students']\n",
    "for i, label in enumerate(labels):\n",
    "    plt.text(i, dfTransferStatus['Drop-out Rate'][i], label, ha='center', va='bottom', fontsize = 'x-large')\n",
    "\n",
    "plt.show();"
   ]
  },
  {
   "cell_type": "markdown",
   "metadata": {},
   "source": [
    "#### Summary of Findings for <u>Transfer status</u>\n",
    "- Transfer students are less likely to drop out. \n",
    "\n",
    "<u>Action</u>:\n",
    "\n",
    "- Drop 'Transfer Status'"
   ]
  },
  {
   "cell_type": "markdown",
   "metadata": {},
   "source": [
    "####  'HS Region'"
   ]
  },
  {
   "cell_type": "code",
   "execution_count": 308,
   "metadata": {},
   "outputs": [],
   "source": [
    "df['HS Region'].value_counts(dropna = False)"
   ]
  },
  {
   "attachments": {
    "image.png": {
     "image/png": "[encoded data removed]"
    }
   },
   "cell_type": "markdown",
   "metadata": {},
   "source": [
    "![image.png](attachment:image.png)"
   ]
  },
  {
   "cell_type": "code",
   "execution_count": 309,
   "metadata": {},
   "outputs": [],
   "source": [
    "dfHSRegionCount = pd.DataFrame(df.groupby(\"HS Region\")['persistIndicator'].agg('count')).reset_index()\n",
    "dfHSRegionAvg = pd.DataFrame(df.groupby(\"HS Region\")['persistIndicator'].agg('mean')).reset_index()\n",
    "\n",
    "fig, ax = plt.subplots(1,2, figsize = (30, 10))\n",
    "histCatVariablesCount(0,dfHSRegionCount['HS Region'],dfHSRegionCount.persistIndicator,\"Frequency by HS Region\")\n",
    "histCatVariablesNonPersistenceRate(1,dfHSRegionAvg['HS Region'],dfHSRegionAvg.persistIndicator,\"Drop-out Rates by HS Region\")\n",
    "\n",
    "fig.tight_layout();\n"
   ]
  },
  {
   "cell_type": "code",
   "execution_count": 310,
   "metadata": {},
   "outputs": [],
   "source": [
    "dfHSRegionAvg.sort_values(by = 'persistIndicator').rename(columns = {'persistIndicator':'Drop-out Rate'})"
   ]
  },
  {
   "cell_type": "code",
   "execution_count": 311,
   "metadata": {},
   "outputs": [],
   "source": [
    "#Map region to numeric values based on drop-out rate\n",
    "hsRegionDict = {'Alameda':1,\n",
    "                'San Mateo':1,\n",
    "                'Other':2,\n",
    "                'Napa County':6,\n",
    "                'Marin':4,\n",
    "                'Contra Costa':7,\n",
    "                'Sonoma':5,\n",
    "                'SF Region':8,\n",
    "                'Unknown':3,\n",
    "                'Santa Clara':9}\n",
    "\n",
    "df['hsRegion'] =df['HS Region'].map(hsRegionDict)"
   ]
  },
  {
   "cell_type": "markdown",
   "metadata": {},
   "source": [
    "####  '# of scholarships since 2015'"
   ]
  },
  {
   "cell_type": "code",
   "execution_count": 312,
   "metadata": {},
   "outputs": [],
   "source": [
    "df['# of scholarships since 2015'].value_counts(dropna = False)"
   ]
  },
  {
   "cell_type": "code",
   "execution_count": 313,
   "metadata": {},
   "outputs": [],
   "source": [
    "df['numScholarships'] = df[\"# of scholarships since 2015\"].fillna(-1)\n",
    "df['numScholarshipsString'] = df['numScholarships'].astype(str)\n",
    "df['numScholarshipsString'].value_counts(dropna = False)\n",
    "df['numScholarships'].value_counts(dropna = False)"
   ]
  },
  {
   "cell_type": "code",
   "execution_count": 314,
   "metadata": {},
   "outputs": [],
   "source": [
    "numScholarshipsCount = pd.DataFrame(df.groupby(\"numScholarshipsString\")['persistIndicator'].agg('count')).reset_index()\n",
    "numScholarshipsAvg = pd.DataFrame(df.groupby(\"numScholarshipsString\")['persistIndicator'].agg('mean')).reset_index()\n",
    "\n",
    "fig, ax = plt.subplots(1,2, figsize = (30, 10))\n",
    "histCatVariablesCount(0,numScholarshipsCount['numScholarshipsString'],numScholarshipsCount.persistIndicator,\"Frequency by # Scholarships\")\n",
    "histCatVariablesNonPersistenceRate(1,numScholarshipsAvg['numScholarshipsString'],numScholarshipsAvg.persistIndicator,\"Drop-out Rates by # Scholarships\")"
   ]
  },
  {
   "cell_type": "code",
   "execution_count": 315,
   "metadata": {},
   "outputs": [],
   "source": [
    "#Review the correlation between 'numScholarships' and 'percScholarshipAccepted'\n",
    "plt.figure(figsize=(16,8)) \n",
    "heatmap = sns.heatmap(df[['numScholarships','percScholarshipAcceptedTemp','persistIndicator']].corr(), annot = True);\n",
    "heatmap.set_title('Correlation Heatmap', fontdict={'fontsize':12}, pad=12);"
   ]
  },
  {
   "cell_type": "markdown",
   "metadata": {},
   "source": [
    "#### Summary of Findings for <u># of scholarships since 2015</u>\n",
    "- A significant percentage of the students do not have this variable populated. Since we are not sure if this means that they didn't get any scholarships, we decided to identify them as a special value with -1.\n",
    "- Number of scholarships is highly correlated with percentage of scholarship accepted but its correlation with the target is weaker. \n",
    "\n",
    "<u>Action</u>:\n",
    "\n",
    "- Drop '# of scholarships since 2015\"."
   ]
  },
  {
   "cell_type": "markdown",
   "metadata": {},
   "source": [
    "#### 'First College Enrollment Date' and 'Months Until FCE' (FCE = First College Enrollment)"
   ]
  },
  {
   "cell_type": "code",
   "execution_count": 316,
   "metadata": {},
   "outputs": [],
   "source": [
    "fig, ax = plt.subplots(1, figsize = (10, 5))\n",
    "plt.title(\"First College Enrollment Date vs. Months Until First College Enrollment Date\")\n",
    "plt.scatter(df['First College Enrollment Date'], df['Months Until FCE'], s =100, c = 'red')\n",
    "plt.xlabel(\"First College Enrollment Date\")\n",
    "plt.ylabel(\"Months Until First College Enrollment Date\")\n",
    "plt.ylim(0,5);"
   ]
  },
  {
   "cell_type": "markdown",
   "metadata": {},
   "source": [
    "'Months Until FCE' is 1-5 months for each year since the schools generally close in May-June."
   ]
  },
  {
   "cell_type": "markdown",
   "metadata": {},
   "source": [
    "Let's first analyze 'Months Until FCE'."
   ]
  },
  {
   "cell_type": "code",
   "execution_count": 317,
   "metadata": {},
   "outputs": [],
   "source": [
    "fceBinning = [0,1,2,3,4,5]\n",
    "df[\"fCEBinned\"] = pd.cut(x = df[\"Months Until FCE\"], right = False, bins = fceBinning)\n",
    "\n",
    "df[\"fCEBinned\"].value_counts(dropna = False)"
   ]
  },
  {
   "cell_type": "markdown",
   "metadata": {},
   "source": [
    "The counts for 1, 3 and 4 months are very low. Decided to apply coarser binning."
   ]
  },
  {
   "cell_type": "code",
   "execution_count": 318,
   "metadata": {},
   "outputs": [],
   "source": [
    "fceBinning = [0,1,5]\n",
    "df[\"fCEBinned\"] = pd.cut(x = df[\"Months Until FCE\"], right = False, bins = fceBinning)\n",
    "\n",
    "df[\"fCEBinned\"].value_counts(dropna = False)"
   ]
  },
  {
   "cell_type": "code",
   "execution_count": 319,
   "metadata": {},
   "outputs": [],
   "source": [
    "fCECount = pd.DataFrame(df.groupby(\"fCEBinned\")['persistIndicator'].agg('count')).reset_index()\n",
    "fCEAvg = pd.DataFrame(df.groupby(\"fCEBinned\")['persistIndicator'].agg('mean')).reset_index()\n",
    "\n",
    "fCECount['fCEBinned'] = fCECount['fCEBinned'].astype(str)\n",
    "fCEAvg['fCEBinned'] = fCEAvg['fCEBinned'].astype(str)\n",
    "\n",
    "fig, ax = plt.subplots(1,2, figsize = (30, 10))\n",
    "histCatVariablesCount(0,fCECount['fCEBinned'],fCECount.persistIndicator,\"Frequency by Months Until FCE\")\n",
    "histCatVariablesNonPersistenceRate(1,fCEAvg['fCEBinned'],fCEAvg.persistIndicator,\"Drop-out Rates by Months Until FCE\")"
   ]
  },
  {
   "cell_type": "markdown",
   "metadata": {},
   "source": [
    "Let's now analyze First College Enrollment Date"
   ]
  },
  {
   "cell_type": "code",
   "execution_count": 320,
   "metadata": {},
   "outputs": [],
   "source": [
    "#Convert YYYY-MM-DD into YYYY\n",
    "df['firstCollegeEnrollmentYear'] = df['First College Enrollment Date'].dt.year"
   ]
  },
  {
   "cell_type": "code",
   "execution_count": 321,
   "metadata": {},
   "outputs": [],
   "source": [
    "fCEYCount = pd.DataFrame(df.groupby(\"firstCollegeEnrollmentYear\")['persistIndicator'].agg('count')).reset_index()\n",
    "fCEYAvg = pd.DataFrame(df.groupby(\"firstCollegeEnrollmentYear\")['persistIndicator'].agg('mean')).reset_index()\n",
    "\n",
    "fCEYCount['firstCollegeEnrollmentYear'] = fCEYCount['firstCollegeEnrollmentYear'].astype(str)\n",
    "fCEYAvg['firstCollegeEnrollmentYear'] = fCEYAvg['firstCollegeEnrollmentYear'].astype(str)\n",
    "\n",
    "fig, ax = plt.subplots(1,2, figsize = (30, 10))\n",
    "histCatVariablesCount(0,fCEYCount['firstCollegeEnrollmentYear'],fCEYCount.persistIndicator,\"Frequency by First College Enrollment Year\")\n",
    "histCatVariablesNonPersistenceRate(1,fCEYAvg['firstCollegeEnrollmentYear'],fCEYAvg.persistIndicator,\"Drop-out Rate by First College Enrollment Year\")"
   ]
  },
  {
   "cell_type": "code",
   "execution_count": 322,
   "metadata": {},
   "outputs": [],
   "source": [
    "#Review the correlation between 'Months Since HS Grad Date' and 'firstCollegeEnrollmentYear'\n",
    "plt.figure(figsize=(16,8)) \n",
    "heatmap = sns.heatmap(df[['Months Since HS Grad Date','firstCollegeEnrollmentYear','persistIndicator']].corr(), annot = True);\n",
    "heatmap.set_title('Correlation Heatmap', fontdict={'fontsize':12}, pad=12);"
   ]
  },
  {
   "cell_type": "markdown",
   "metadata": {},
   "source": [
    "#### Summary of Findings for <u>Months Until FCE</u> and <u>First College Enrollment Date</u>\n",
    "- Both 'Months Until FCE' and 'First College Enrollment Date' are correlated with the target.\n",
    "- However, Months Since HS Grad Date and firstCollegeEnrollmentYear have 100% overlapping information. We can keep only one.\n",
    "- Students with no gap after high school graduation attended summer program. Therefore, 'Months Until FCE' may be a good predictor for persistence.\n",
    "\n",
    "<u>Action</u>:\n",
    "\n",
    "- Keep 'Months Until FCE' \n",
    "- Drop 'First College Enrollment Date'"
   ]
  },
  {
   "cell_type": "markdown",
   "metadata": {},
   "source": [
    "#### 'First College Name'"
   ]
  },
  {
   "cell_type": "code",
   "execution_count": 323,
   "metadata": {},
   "outputs": [],
   "source": [
    "df['First College Name'].nunique()\n",
    "df = pd.read_excel('data/FY23 data pull.xlsx')"
   ]
  },
  {
   "cell_type": "code",
   "execution_count": 232,
   "metadata": {},
   "outputs": [],
   "source": [
    "df_colleges = pd.DataFrame(df['First College Name'].unique().tolist(), columns=['College Names'])\n",
    "df_colleges.to_csv('data/unique_colleges.csv', index=False)"
   ]
  },
  {
   "cell_type": "markdown",
   "metadata": {},
   "source": [
    "Appended location info for all the colleges using Chat-GPT"
   ]
  },
  {
   "cell_type": "code",
   "execution_count": 324,
   "metadata": {},
   "outputs": [],
   "source": [
    "#Read dataset\n",
    "dfColleges = pd.read_csv('data/unique_colleges - Location.csv')"
   ]
  },
  {
   "cell_type": "code",
   "execution_count": 325,
   "metadata": {},
   "outputs": [],
   "source": [
    "dfColleges"
   ]
  },
  {
   "cell_type": "code",
   "execution_count": 240,
   "metadata": {},
   "outputs": [],
   "source": [
    "#Merge df with College Location to get the College Location\n",
    "df = pd.merge(left = df, right = dfColleges[['First College Name','College Location']], on = 'First College Name', how = 'left')\n",
    "df.head()"
   ]
  },
  {
   "cell_type": "code",
   "execution_count": 145,
   "metadata": {},
   "outputs": [
    {
     "data": {
      "image/png": "[encoded data removed]",
      "text/plain": [
       "<Figure size 3000x1000 with 2 Axes>"
      ]
     },
     "metadata": {},
     "output_type": "display_data"
    }
   ],
   "source": [
    "collegeCount = pd.DataFrame(df.groupby(\"College Location\")['persistIndicator'].agg('count')).reset_index()\n",
    "collegeAvg = pd.DataFrame(df.groupby(\"College Location\")['persistIndicator'].agg('mean')).reset_index()\n",
    "\n",
    "fig, ax = plt.subplots(1,2, figsize = (30, 10))\n",
    "histCatVariablesCount(0,collegeCount['College Location'],collegeCount.persistIndicator,\"Frequency by College Location\")\n",
    "histCatVariablesNonPersistenceRate(1,collegeAvg['College Location'],collegeAvg.persistIndicator,\"Drop-out Rates by College Location\")"
   ]
  },
  {
   "cell_type": "code",
   "execution_count": 147,
   "metadata": {},
   "outputs": [
    {
     "data": {
      "text/html": [
       "<div>\n",
       "<style scoped>\n",
       "    .dataframe tbody tr th:only-of-type {\n",
       "        vertical-align: middle;\n",
       "    }\n",
       "\n",
       "    .dataframe tbody tr th {\n",
       "        vertical-align: top;\n",
       "    }\n",
       "\n",
       "    .dataframe thead th {\n",
       "        text-align: right;\n",
       "    }\n",
       "</style>\n",
       "<table border=\"1\" class=\"dataframe\">\n",
       "  <thead>\n",
       "    <tr style=\"text-align: right;\">\n",
       "      <th></th>\n",
       "      <th>College Location</th>\n",
       "      <th>persistIndicator</th>\n",
       "    </tr>\n",
       "  </thead>\n",
       "  <tbody>\n",
       "    <tr>\n",
       "      <th>2</th>\n",
       "      <td>Marin</td>\n",
       "      <td>0.269103</td>\n",
       "    </tr>\n",
       "    <tr>\n",
       "      <th>1</th>\n",
       "      <td>Contra Costa</td>\n",
       "      <td>0.271429</td>\n",
       "    </tr>\n",
       "    <tr>\n",
       "      <th>3</th>\n",
       "      <td>Napa</td>\n",
       "      <td>0.318182</td>\n",
       "    </tr>\n",
       "    <tr>\n",
       "      <th>10</th>\n",
       "      <td>Sonoma</td>\n",
       "      <td>0.336538</td>\n",
       "    </tr>\n",
       "    <tr>\n",
       "      <th>4</th>\n",
       "      <td>Outside Bay Area</td>\n",
       "      <td>0.348485</td>\n",
       "    </tr>\n",
       "    <tr>\n",
       "      <th>7</th>\n",
       "      <td>San Mateo</td>\n",
       "      <td>0.368421</td>\n",
       "    </tr>\n",
       "    <tr>\n",
       "      <th>8</th>\n",
       "      <td>Santa Clara</td>\n",
       "      <td>0.372881</td>\n",
       "    </tr>\n",
       "    <tr>\n",
       "      <th>6</th>\n",
       "      <td>San Francisco</td>\n",
       "      <td>0.373391</td>\n",
       "    </tr>\n",
       "    <tr>\n",
       "      <th>9</th>\n",
       "      <td>Solano</td>\n",
       "      <td>0.428571</td>\n",
       "    </tr>\n",
       "    <tr>\n",
       "      <th>0</th>\n",
       "      <td>Alameda</td>\n",
       "      <td>0.437500</td>\n",
       "    </tr>\n",
       "    <tr>\n",
       "      <th>5</th>\n",
       "      <td>Outside California</td>\n",
       "      <td>0.500000</td>\n",
       "    </tr>\n",
       "  </tbody>\n",
       "</table>\n",
       "</div>"
      ],
      "text/plain": [
       "      College Location  persistIndicator\n",
       "2                Marin          0.269103\n",
       "1         Contra Costa          0.271429\n",
       "3                 Napa          0.318182\n",
       "10              Sonoma          0.336538\n",
       "4     Outside Bay Area          0.348485\n",
       "7            San Mateo          0.368421\n",
       "8          Santa Clara          0.372881\n",
       "6        San Francisco          0.373391\n",
       "9               Solano          0.428571\n",
       "0              Alameda          0.437500\n",
       "5   Outside California          0.500000"
      ]
     },
     "execution_count": 147,
     "metadata": {},
     "output_type": "execute_result"
    }
   ],
   "source": [
    "collegeAvg.sort_values(by = 'persistIndicator')"
   ]
  },
  {
   "cell_type": "markdown",
   "metadata": {},
   "source": [
    "#### Summary of Findings for <u>First College Name</u>\n",
    "- There are 82 different colleges. These colleges can be classified as local vs. in-state vs. out-of-state.\n",
    "\n",
    "<u>Action</u>:\n",
    "\n",
    "- Will analyze this variable further during Phase II."
   ]
  },
  {
   "cell_type": "markdown",
   "metadata": {},
   "source": [
    "#### 'First College Type'"
   ]
  },
  {
   "cell_type": "code",
   "execution_count": 119,
   "metadata": {},
   "outputs": [
    {
     "data": {
      "text/plain": [
       "2-Year              1392\n",
       "Less than 2-Year       1\n",
       "Name: First College Type, dtype: int64"
      ]
     },
     "execution_count": 119,
     "metadata": {},
     "output_type": "execute_result"
    }
   ],
   "source": [
    "df['First College Type'].value_counts()"
   ]
  },
  {
   "cell_type": "markdown",
   "metadata": {},
   "source": [
    "There is no new information in this variable. Will not include it in the development dataset."
   ]
  },
  {
   "cell_type": "markdown",
   "metadata": {},
   "source": [
    "#### Highest Degree College Name"
   ]
  },
  {
   "cell_type": "code",
   "execution_count": 123,
   "metadata": {},
   "outputs": [
    {
     "data": {
      "text/plain": [
       "NaN    1393\n",
       "Name: Highest Degree College Name, dtype: int64"
      ]
     },
     "execution_count": 123,
     "metadata": {},
     "output_type": "execute_result"
    }
   ],
   "source": [
    "df['Highest Degree College Name'].value_counts(normalize = False,dropna = False)"
   ]
  },
  {
   "cell_type": "markdown",
   "metadata": {},
   "source": [
    "70% is missing. Drop this variable."
   ]
  },
  {
   "cell_type": "markdown",
   "metadata": {},
   "source": [
    "#### Development Sample\n",
    "\n",
    "After discussions with 10,000 Degrees, we agreed to use the following variables for the first phase of the model development effort."
   ]
  },
  {
   "cell_type": "code",
   "execution_count": null,
   "metadata": {},
   "outputs": [],
   "source": [
    "modelingVarList = [\n",
    "'Months Since HS Grad Date',\n",
    "'hsProgramParticipant',\n",
    "'Meritus',\n",
    "'Scholarship',\n",
    "'Success',\n",
    "'dualEnrolled',\n",
    "'sex',\n",
    "'percScholarshipAccepted',\n",
    "'race',\n",
    "'transferStatus',\n",
    "'hsRegion',\n",
    "'Months Until FCE',\n",
    "'collegeProgramParticipant',\n",
    "'persistIndicator']\n",
    "\n",
    "df = df[modelingVarList]\n",
    "df.head()\n",
    "df.shape"
   ]
  },
  {
   "cell_type": "markdown",
   "metadata": {},
   "source": [
    "### Step 5: Build a model for 2 Year College Students"
   ]
  },
  {
   "cell_type": "code",
   "execution_count": null,
   "metadata": {},
   "outputs": [],
   "source": [
    "#Create a train, test value. Use the default test_size of 25%.\n",
    "X_train, X_test, y_train, y_test = train_test_split(df.drop(columns = ['persistIndicator']),df['persistIndicator'],random_state = 42, stratify = df['persistIndicator'])"
   ]
  },
  {
   "cell_type": "code",
   "execution_count": null,
   "metadata": {},
   "outputs": [],
   "source": [
    "#Confirm the stratification on 'persistIndicator'\n",
    "y_train.value_counts(normalize=True)\n",
    "y_test.value_counts(normalize=True)"
   ]
  },
  {
   "cell_type": "markdown",
   "metadata": {},
   "source": [
    "#### Build a logistic regression model with default parameters as the baseline"
   ]
  },
  {
   "cell_type": "code",
   "execution_count": null,
   "metadata": {},
   "outputs": [],
   "source": [
    "#Scale all the variables\n",
    "transformer = make_column_transformer((StandardScaler(), list(X_train.columns)),\n",
    "                                      remainder = 'passthrough' )"
   ]
  },
  {
   "cell_type": "code",
   "execution_count": null,
   "metadata": {},
   "outputs": [],
   "source": [
    "#Build a logistic regression pipeline\n",
    "lgrPipe = Pipeline([('transformer',transformer),\n",
    "                     ('lgr',LogisticRegression(random_state = 42))]).fit(X_train,y_train)\n",
    "\n",
    "y_train_predicted = lgrPipe.predict(X_train)\n",
    "y_test_predicted = lgrPipe.predict(X_test)\n",
    "\n",
    "y_train_predicted_proba = lgrPipe.predict_proba(X_train)\n",
    "y_test_predicted_proba = lgrPipe.predict_proba(X_test)"
   ]
  },
  {
   "cell_type": "code",
   "execution_count": null,
   "metadata": {},
   "outputs": [],
   "source": [
    "#Display the confusion matrix\n",
    "dataList = [y_train,y_test]\n",
    "predictedList = [y_train_predicted, y_test_predicted]\n",
    "dataLabels = ['Train Sample','Test Sample']\n",
    "\n",
    "fig, ax = plt.subplots(1,2, figsize = (20,20))\n",
    "#plt.rcParams.update({'font.size': 20})\n",
    "\n",
    "for i,j in enumerate(predictedList):\n",
    "    confusionMatrix= confusion_matrix(dataList[i],j)\n",
    "    disp = ConfusionMatrixDisplay(confusionMatrix, display_labels = ['Persisted','Drop-out'])\n",
    "    disp.plot(ax=ax[i], xticks_rotation=45)\n",
    "    disp.ax_.set_title(dataLabels[i])\n",
    "    disp.im_.colorbar.remove()\n",
    "    if i!=0:\n",
    "        disp.ax_.set_ylabel('')\n",
    "\n",
    "plt.show();"
   ]
  },
  {
   "cell_type": "markdown",
   "metadata": {},
   "source": [
    "- In the train sample, there are 254 instances of false negatives (classified as persistent even though a drop-out), or missed opportunities where the necessary interventions were not taken to retain students in college. The test sample reports 84 false negatives.\n",
    "- The train sample also shows a high occurrence of false positives, or instances where the investment was misallocated, with 88 cases. This statistic decreases to 27 in the test sample.\n",
    "- It is imperative to strive for minimizing both false negatives and false positives in order to maximize success in retaining students and effectively utilizing resources."
   ]
  },
  {
   "cell_type": "code",
   "execution_count": null,
   "metadata": {},
   "outputs": [],
   "source": [
    "#Function to generate summary stats, accuracy, precision, recall, f1-score and AUC\n",
    "def generateModelSummaryStats(y_train, y_train_predicted, y_test, y_test_predicted,y_train_predicted_proba,y_test_predicted_proba):\n",
    "    trainStats = []\n",
    "    testStats = []\n",
    "    \n",
    "    trainStats.append(np.round(accuracy_score(y_train,y_train_predicted),3))\n",
    "    if (np.sum(y_train_predicted) == 0):\n",
    "        trainStats.append(\"N/A\")\n",
    "    else:\n",
    "        trainStats.append(np.round(precision_score(y_train,y_train_predicted),3))\n",
    "    trainStats.append(np.round(recall_score(y_train,y_train_predicted),3))\n",
    "    trainStats.append(np.round(f1_score(y_train,y_train_predicted),3))\n",
    "    trainStats.append(np.round(roc_auc_score(y_train, y_train_predicted_proba[:,1]),3))\n",
    "    \n",
    "    testStats.append(np.round(accuracy_score(y_test,y_test_predicted),3))\n",
    "    if (np.sum(y_test_predicted) == 0):\n",
    "        testStats.append(\"N/A\")\n",
    "    else:\n",
    "        testStats.append(np.round(precision_score(y_test,y_test_predicted),3))\n",
    "    testStats.append(np.round(recall_score(y_test,y_test_predicted),3))\n",
    "    testStats.append(np.round(f1_score(y_test,y_test_predicted),3))\n",
    "    testStats.append(np.round(roc_auc_score(y_test, y_test_predicted_proba[:,1]),3))\n",
    "    \n",
    "    #Summarize results\n",
    "    listOfStats = ['Accuracy','Precision','Recall','F1 Score','AUC']\n",
    "    dfStats = pd.DataFrame(zip(listOfStats, trainStats, testStats), columns = ['Metric','Train Sample','Test Sample'])\n",
    "    return(dfStats)"
   ]
  },
  {
   "cell_type": "code",
   "execution_count": null,
   "metadata": {},
   "outputs": [],
   "source": [
    "#Generate summary statistics\n",
    "generateModelSummaryStats(y_train, y_train_predicted, y_test, y_test_predicted,y_train_predicted_proba,y_test_predicted_proba)"
   ]
  },
  {
   "cell_type": "code",
   "execution_count": null,
   "metadata": {},
   "outputs": [],
   "source": [
    "#ROC for the Logistic Regression model with default parameters\n",
    "fig, ax = plt.subplots(figsize = (5,5))\n",
    "RocCurveDisplay.from_estimator(lgrPipe, X_train, y_train,ax=ax,label = \"Logistic Regression - Train\")\n",
    "RocCurveDisplay.from_estimator(lgrPipe, X_test, y_test,ax=ax,label = \"Logistic Regression - Test\")\n",
    "plt.grid()\n",
    "plt.plot(np.arange(0, 1.1, .1), np.arange(0, 1.1, .1), label = 'baseline');\n",
    "plt.xlabel('False Positive (Persisted) Rate')\n",
    "plt.ylabel('True Positive (Drop-out) Rate')\n",
    "plt.title('ROC for True Positives (= Drop-out)')\n",
    "plt.legend()\n",
    "plt.show();"
   ]
  },
  {
   "cell_type": "markdown",
   "metadata": {},
   "source": [
    "- Our model's ability to identify students who dropped-out can be analyzed through the above curve.\n",
    "- Specifically, it predicts 60% of the students who dropped-out within the bottom 20% of students who persisted."
   ]
  },
  {
   "cell_type": "code",
   "execution_count": null,
   "metadata": {},
   "outputs": [],
   "source": [
    "importances = pd.DataFrame(data={\n",
    "    'Feature': X_train.columns,\n",
    "    'Importance': lgrPipe.named_steps[\"lgr\"].coef_[0]\n",
    "})\n",
    "importances = importances.sort_values(by='Importance', ascending=False)\n",
    "\n",
    "fig, ax = plt.subplots(1, figsize = (30, 15))\n",
    "ax.bar(x=importances['Feature'], height=importances['Importance'])\n",
    "ax.set_title('Feature Importances Obtained from Coefficients', size = 30)\n",
    "ax.set_ylabel('Coefficient', fontsize = 30)\n",
    "ax.tick_params(axis = 'x',labelrotation=45, labelsize=15)\n",
    "ax.tick_params(axis = 'y',  labelsize=30)\n",
    "plt.show();"
   ]
  },
  {
   "cell_type": "markdown",
   "metadata": {},
   "source": [
    "The following groups of students may have a higher likelihood of dropping out of college:\n",
    "- Those who did not choose to transfer to a four-year college\n",
    "- Those with a low rate of scholarship acceptance\n",
    "- Those who did not take college classes during high school\n",
    "- Those who did not engage in college programs or activities\n",
    "- Those residing in specific regions within the Bay Area."
   ]
  },
  {
   "cell_type": "code",
   "execution_count": null,
   "metadata": {},
   "outputs": [],
   "source": [
    "#Get a table of the observed drop-out rate for each decile calculated based on the predicted drop-out rate\n",
    "y_trainedJoined = pd.DataFrame(y_train).reset_index(drop=True).join(pd.DataFrame(y_train_predicted_proba).reset_index(drop=True)).drop(columns = 0).rename(columns = {1:'dropOutProb'})\n",
    "\n",
    "label = list(range(1,11,1))\n",
    "y_trainedJoined['Decile'] = pd.qcut(y_trainedJoined['dropOutProb'],10, label )\n",
    "\n",
    "#Count of subscribed in each bin\n",
    "dfTrainSubscribed = pd.DataFrame(y_trainedJoined.groupby('Decile')['persistIndicator'].sum()).reset_index().rename(columns = {\"persistIndicator\":\"Drop-out\"})\n",
    "\n",
    "#Count of records in each bin\n",
    "dfTrainTotal = pd.DataFrame(y_trainedJoined.groupby('Decile')['persistIndicator'].count()).reset_index().rename(columns = {\"persistIndicator\":\"Total\"})\n",
    "\n",
    "#Generate a dataset with the drop-out rate for each decile\n",
    "dfTrainStatsLRDefault = pd.merge(dfTrainSubscribed, dfTrainTotal, on = 'Decile')\n",
    "\n",
    "dfTrainStatsLRDefault['Observed Drop-out Rate'] = dfTrainStatsLRDefault['Drop-out'] / dfTrainStatsLRDefault['Total']\n",
    "dfTrainStatsLRDefault"
   ]
  },
  {
   "cell_type": "code",
   "execution_count": null,
   "metadata": {},
   "outputs": [],
   "source": [
    "fig,ax = plt.subplots(figsize = (20, 7))\n",
    "\n",
    "X_label = np.arange(1,11,1)\n",
    "plt.bar(dfTrainStatsLRDefault['Decile'], dfTrainStatsLRDefault['Observed Drop-out Rate'],width = 0.4, label = 'Logistic Regression with Default Values')\n",
    "plt.xlabel(\"Decile based on the Predicted Drop-out Rate\")\n",
    "plt.ylabel(\"Observed Drop-out Rate\")\n",
    "plt.title(\"Observed Drop-out Rate by Decile for the Logistic Regression Model for 2-Year Students\")\n",
    "\n",
    "plt.xticks(X_label)\n",
    "plt.yticks(np.linspace(0,0.6,5))\n",
    "plt.legend()\n",
    "plt.show();"
   ]
  },
  {
   "cell_type": "code",
   "execution_count": null,
   "metadata": {},
   "outputs": [],
   "source": [
    "fig,ax = plt.subplots(figsize = (20, 7))\n",
    "\n",
    "X_label = np.arange(1,11,1)\n",
    "plt.bar(dfTrainStatsLRDefault['Decile'], dfTrainStatsLRDefault['Observed Drop-out Rate'],width = 0.4, label = 'Logistic Regression with Default Values')\n",
    "plt.xlabel(\"Decile based on the Predicted Drop-out Rate\")\n",
    "plt.ylabel(\"Observed Drop-out Rate\")\n",
    "plt.title(\"Observed Drop-out Rate by Decile for the Logistic Regression Model for 2-Year Students\")\n",
    "\n",
    "plt.xticks(X_label)\n",
    "plt.yticks(np.linspace(0,0.6,5))\n",
    "plt.legend()\n",
    "plt.show();"
   ]
  },
  {
   "cell_type": "markdown",
   "metadata": {},
   "source": [
    "- The chart presented above illustrates the ability of the model to rank order students based on their risk of dropping out of college.\n",
    "- It is evident from the chart that students in the higher deciles have a much greater chance of dropping out, compared to those in the lower deciles."
   ]
  },
  {
   "cell_type": "markdown",
   "metadata": {},
   "source": [
    "#### Test other classification algorithms (kNN, Decision Trees and SVC)"
   ]
  },
  {
   "cell_type": "code",
   "execution_count": null,
   "metadata": {},
   "outputs": [],
   "source": [
    "#Build K-Nearest Neighbor, logistic regression, decision classifier and SVN models with default parameters\n",
    "modelList = [KNeighborsClassifier(),\n",
    "             LogisticRegression(random_state = 42),\n",
    "             DecisionTreeClassifier(random_state = 42),\n",
    "             SVC(random_state = 42,probability=True)]"
   ]
  },
  {
   "cell_type": "code",
   "execution_count": null,
   "metadata": {},
   "outputs": [],
   "source": [
    "#Train K-Nearest Neighbor, logistic regression, decision classifier and SVN models with default parameters\n",
    "runTime = []\n",
    "accuracyScoreTrain = []\n",
    "accuracyScoreTest = []\n",
    "\n",
    "precisionScoreTrain = []\n",
    "precisionScoreTest = []\n",
    "\n",
    "recallScoreTrain = []\n",
    "recallScoreTest = []\n",
    "\n",
    "f1ScoreTrain = []\n",
    "f1ScoreTest = []\n",
    "\n",
    "aucScoreTrain = []\n",
    "aucScoreTest = []\n",
    "\n",
    "for i in range(len(modelList)):\n",
    "    t1 = timeit.default_timer()\n",
    "    modelPipe = Pipeline([('transformer',transformer),\n",
    "                     ('model',modelList[i])]).fit(X_train,y_train)\n",
    "    t2 = timeit.default_timer()\n",
    "    runTime.append(np.round((t2-t1),2))\n",
    "    \n",
    "    y_train_predicted = modelPipe.predict(X_train)\n",
    "    y_test_predicted = modelPipe.predict(X_test)\n",
    "\n",
    "    y_train_predicted_proba = modelPipe.predict_proba(X_train)\n",
    "    y_test_predicted_proba = modelPipe.predict_proba(X_test)\n",
    "    \n",
    "    accuracyScoreTrain.append(np.round(accuracy_score(y_train, y_train_predicted),3))\n",
    "    accuracyScoreTest.append(np.round(accuracy_score(y_test, y_test_predicted),3))\n",
    "    \n",
    "    precisionScoreTrain.append(np.round(precision_score(y_train, y_train_predicted),3))\n",
    "    precisionScoreTest.append(np.round(precision_score(y_test, y_test_predicted),3))\n",
    "    \n",
    "    recallScoreTrain.append(np.round(recall_score(y_train, y_train_predicted),3))\n",
    "    recallScoreTest.append(np.round(recall_score(y_test, y_test_predicted),3))\n",
    "    \n",
    "    f1ScoreTrain.append(np.round(f1_score(y_train, y_train_predicted),3))\n",
    "    f1ScoreTest.append(np.round(f1_score(y_test, y_test_predicted),3))\n",
    "    \n",
    "    aucScoreTrain.append(np.round(roc_auc_score(y_train, y_train_predicted_proba[:,1]),3))\n",
    "    aucScoreTest.append(np.round(roc_auc_score(y_test, y_test_predicted_proba[:,1]),3))"
   ]
  },
  {
   "cell_type": "code",
   "execution_count": null,
   "metadata": {},
   "outputs": [],
   "source": [
    "#Summarize results\n",
    "listOfModels = ['kNN','Logistic Regression','Decision Tree','SVM']\n",
    "\n",
    "dfStats = pd.DataFrame(zip(listOfModels,accuracyScoreTrain, accuracyScoreTest,precisionScoreTrain, precisionScoreTest, recallScoreTrain, recallScoreTest, f1ScoreTrain, f1ScoreTest, aucScoreTrain, aucScoreTest), \n",
    "                       columns = ['Model','Train Accuracy','Test Accuracy', 'Train Precision', 'Test Precision', 'Train Recall','Test Recall','F1-Score Train','F1-Score Test','Train AUC','Test AUC'])\n",
    "\n",
    "dfStats"
   ]
  },
  {
   "cell_type": "code",
   "execution_count": null,
   "metadata": {},
   "outputs": [],
   "source": [
    "#ROC for kNN, logistic regression and decision tree\n",
    "labels = ['kNN', 'Logistic Regression', 'Decision Tree', 'SVM']\n",
    "\n",
    "fig, ax = plt.subplots()\n",
    "\n",
    "for i in range(len(modelList)):\n",
    "    modelPipe = Pipeline([('transformer',transformer),\n",
    "                     ('model',modelList[i])]).fit(X_train,y_train)\n",
    "    RocCurveDisplay.from_estimator(modelPipe, X_test, y_test,ax=ax,label = labels[i])\n",
    "    \n",
    "plt.grid()\n",
    "plt.plot(np.arange(0, 1.1, .1), np.arange(0, 1.1, .1), label = 'baseline');\n",
    "plt.xlabel('False Positive (Persisted) Rate')\n",
    "plt.ylabel('True Positive (Drop-out) Rate')\n",
    "plt.title('ROC for True Positives (= Drop-out) on the Test Sample')\n",
    "plt.legend();"
   ]
  },
  {
   "cell_type": "markdown",
   "metadata": {},
   "source": [
    "After careful consideration, the following algorithms have been deemed unsuitable for further exploration:\n",
    "- k-Nearest Neighbors (kNN): Additional features are necessary for the successful implementation of kNN, and it appears to be overfit to the training sample.\n",
    "- Support Vector Machines (SVM): SVM can be challenging to explain, and explainability is a critical requirement for this particular model.\n",
    "\n",
    "Given these factors, these algorithms will not be pursued further in the analysis."
   ]
  },
  {
   "cell_type": "markdown",
   "metadata": {},
   "source": [
    "#### Further review the decision tree model to minimize overfitting"
   ]
  },
  {
   "cell_type": "code",
   "execution_count": null,
   "metadata": {},
   "outputs": [],
   "source": [
    "train_acc = []\n",
    "test_acc = []\n",
    "\n",
    "for i in range(1, 11):\n",
    "    dTree = DecisionTreeClassifier(random_state = 42, max_depth = i).fit(X_train,y_train)\n",
    "    train_acc.append(dTree.score(X_train,y_train))\n",
    "    test_acc.append(dTree.score(X_test,y_test))"
   ]
  },
  {
   "cell_type": "code",
   "execution_count": null,
   "metadata": {},
   "outputs": [],
   "source": [
    "plt.plot(range(1, 11),train_acc , '--o', label = \"Train\")\n",
    "plt.plot(range(1, 11),test_acc , '--x', label = \"Test\")\n",
    "plt.xlim([0,11])\n",
    "plt.xticks(range(1, 11))\n",
    "plt.title('Tree Depth vs. Accuracy for test size = 0.25 ')\n",
    "plt.xlabel('Tree Depth')\n",
    "plt.ylabel('Accuracy')\n",
    "plt.legend(title='Dataset:')\n",
    "plt.axvline(x = 2, color = 'r', label = 'axvline - full height')\n",
    "plt.tight_layout();"
   ]
  },
  {
   "cell_type": "code",
   "execution_count": null,
   "metadata": {},
   "outputs": [],
   "source": [
    "fig, ax = plt.subplots(figsize = (40,40))\n",
    "tree5 = DecisionTreeClassifier(random_state = 42, max_depth = 2).fit(X_train,y_train)\n",
    "tree5_plot = plot_tree(tree5,feature_names=list(X_train.columns), filled = True,class_names = [\"Persisted\",\"Drop-out\"],ax=ax)"
   ]
  },
  {
   "cell_type": "markdown",
   "metadata": {},
   "source": [
    "#### Further review logistic regression to fit the model with the optimized hyperparameters"
   ]
  },
  {
   "cell_type": "code",
   "execution_count": null,
   "metadata": {},
   "outputs": [],
   "source": [
    "#Build a pipeline for grid search on the logistic regression model\n",
    "extractor = SelectFromModel(LogisticRegression(penalty='l2', solver = 'liblinear' ,random_state = 42))\n",
    "lgr_pipe = Pipeline([('transformer',transformer),\n",
    "                     ('selector',extractor),\n",
    "                     ('lgr',LogisticRegression( solver = 'liblinear',random_state = 42))])"
   ]
  },
  {
   "cell_type": "code",
   "execution_count": null,
   "metadata": {},
   "outputs": [],
   "source": [
    "#Test Grid Search for max_features, penalty and C.\n",
    "roc_grid_lgr = GridSearchCV(lgr_pipe,\n",
    "                        param_grid= {'selector__max_features':list(range(1,len(X_train.columns)+1)),\n",
    "                                     'lgr__penalty':['l1','l2'],\n",
    "                                     'lgr__C': np.logspace(-3, 3, 7, endpoint = True).tolist()}, \n",
    "                        scoring = 'roc_auc').fit(X_train, y_train)\n",
    "roc_grid_lgr.best_params_"
   ]
  },
  {
   "cell_type": "code",
   "execution_count": null,
   "metadata": {},
   "outputs": [],
   "source": [
    "lgrPipe = Pipeline([\n",
    "    ('transformer', transformer),\n",
    "    ('selector', SelectFromModel(LogisticRegression(penalty='l2', solver='liblinear', random_state=42), max_features=roc_grid_lgr.best_params_.get('selector__max_features'))),\n",
    "    ('lgr', LogisticRegression(penalty=roc_grid_lgr.best_params_.get('lgr__penalty'),\n",
    "                               C=roc_grid_lgr.best_params_.get('lgr__C'), solver='liblinear', random_state=42))\n",
    "]).fit(X_train, y_train)\n"
   ]
  },
  {
   "cell_type": "code",
   "execution_count": null,
   "metadata": {},
   "outputs": [],
   "source": [
    "lgr = lgrPipe.named_steps['lgr']\n",
    "coefficients = lgr.coef_[0]\n",
    "selector = lgrPipe.named_steps['selector']\n",
    "features = X_train.columns[selector.get_support()]\n",
    "\n",
    "coef_df = pd.DataFrame({'feature': features, 'coefficient': coefficients})\n",
    "coef_df.sort_values(by = 'coefficient')"
   ]
  },
  {
   "cell_type": "markdown",
   "metadata": {},
   "source": [
    "The following groups of students may have a higher likelihood of dropping out of college:\n",
    "- Those who did not choose to transfer to a four-year college\n",
    "- Those with a low rate of scholarship acceptance\n",
    "- Those who went to high school in Contra Costa, Napa, San Francisco and Santa Clara"
   ]
  },
  {
   "cell_type": "code",
   "execution_count": null,
   "metadata": {},
   "outputs": [],
   "source": [
    "#Generate summary statistics\n",
    "generateModelSummaryStats(y_train, y_train_predicted, y_test, y_test_predicted,y_train_predicted_proba,y_test_predicted_proba)"
   ]
  },
  {
   "cell_type": "code",
   "execution_count": null,
   "metadata": {},
   "outputs": [],
   "source": [
    "#Get a table of the observed drop-out rate for each decile calculated based on the predicted drop-out rate\n",
    "y_trainedJoined = pd.DataFrame(y_train).reset_index(drop=True).join(pd.DataFrame(y_train_predicted_proba).reset_index(drop=True)).drop(columns = 0).rename(columns = {1:'dropOutProb'})\n",
    "\n",
    "#label = list(range(1,11,1))\n",
    "y_trainedJoined['Decile'] = pd.qcut(y_trainedJoined['dropOutProb'],10, label )\n",
    "\n",
    "#Count of drop-out students in each bin\n",
    "dfTrainSubscribed = pd.DataFrame(y_trainedJoined.groupby('Decile')['persistIndicator'].sum()).reset_index().rename(columns = {\"persistIndicator\":\"Drop-out\"})\n",
    "\n",
    "#Count of records in each bin\n",
    "dfTrainTotal = pd.DataFrame(y_trainedJoined.groupby('Decile')['persistIndicator'].count()).reset_index().rename(columns = {\"persistIndicator\":\"Total\"})\n",
    "\n",
    "#Generate a dataset with the drop-out rate for each decile\n",
    "dfTrainStatsLRHyperP = pd.merge(dfTrainSubscribed, dfTrainTotal, on = 'Decile')\n",
    "\n",
    "dfTrainStatsLRHyperP['Observed Drop-out Rate'] = dfTrainStatsLRHyperP['Drop-out'] / dfTrainStatsLRHyperP['Total']\n",
    "dfTrainStatsLRHyperP\n"
   ]
  },
  {
   "cell_type": "code",
   "execution_count": null,
   "metadata": {},
   "outputs": [],
   "source": [
    "#Generate a chart to observe the rank ordering capability of the model\n",
    "fig,ax = plt.subplots(figsize = (20, 7))\n",
    "\n",
    "X_label = np.arange(1,11,1)\n",
    "plt.bar(X_label - 0.2, dfTrainStatsLRDefault['Observed Drop-out Rate'],width = 0.4,label = 'Default parameters')\n",
    "plt.bar(X_label + 0.2, dfTrainStatsLRHyperP['Observed Drop-out Rate'], width = 0.4,label = 'Optimized hyperparameters' )\n",
    "plt.xlabel(\"Decile based on the Predicted Drop-out Rate\")\n",
    "plt.ylabel(\"Observed Drop-out Rate\")\n",
    "plt.title(\"Observed Drop-out Rate by Decile for the Logistic Regression Model\")\n",
    "plt.xticks(X_label)\n",
    "plt.yticks(np.linspace(0,0.7,8))\n",
    "plt.legend()\n",
    "plt.show();"
   ]
  },
  {
   "cell_type": "code",
   "execution_count": null,
   "metadata": {},
   "outputs": [],
   "source": [
    "#Generate a chart to observe the rank ordering capability of the model\n",
    "fig,ax = plt.subplots(figsize = (15, 7))\n",
    "\n",
    "X_label = np.arange(1,11,1)\n",
    "plt.bar(X_label, dfTrainStatsLRHyperP['Observed Drop-out Rate'], width = 0.4)\n",
    "plt.xlabel(\"Score Decile\")\n",
    "plt.ylabel(\"Observed Drop-out Rate\")\n",
    "plt.title(\"Drop-out Rate Distribution\")\n",
    "plt.xticks(X_label)\n",
    "plt.yticks(np.linspace(0,0.8,9))\n",
    "plt.legend()\n",
    "plt.show();"
   ]
  },
  {
   "cell_type": "markdown",
   "metadata": {},
   "source": [
    "The chart depicts a noteworthy improvement in the model's capacity to rank order after the optimization of its hyperparameters."
   ]
  }
 ],
 "metadata": {
  "kernelspec": {
   "display_name": "Python 3 (ipykernel)",
   "language": "python",
   "name": "python3"
  },
  "language_info": {
   "codemirror_mode": {
    "name": "ipython",
    "version": 3
   },
   "file_extension": ".py",
   "mimetype": "text/x-python",
   "name": "python",
   "nbconvert_exporter": "python",
   "pygments_lexer": "ipython3",
   "version": "3.8.5"
  }
 },
 "nbformat": 4,
 "nbformat_minor": 4
}
